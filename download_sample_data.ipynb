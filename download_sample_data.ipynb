{
 "cells": [
  {
   "cell_type": "markdown",
   "metadata": {},
   "source": [
    "# Download Sample Chapel Hill Data\n",
    "\n",
    "Start off by importing the libraries we'll need."
   ]
  },
  {
   "cell_type": "code",
   "execution_count": 3,
   "metadata": {
    "collapsed": false,
    "scrolled": false
   },
   "outputs": [],
   "source": [
    "import sqlite3, os, urllib, zipfile"
   ]
  },
  {
   "cell_type": "markdown",
   "metadata": {
    "collapsed": true
   },
   "source": [
    "Download the data from the [NC State Board of Elections](https://www.ncsbe.gov/). There used to be an actual, clean FTP site for downloading the data, but some time in 2016 the BOE opted to move everything to Amazon S3 and gave it a fake [FTP-like interface](http://dl.ncsbe.gov/index.html?prefix=data/) for browsing election data. Kind of annoying, but, it could be worse.\n",
    "\n",
    "The action voter database along with voter history lives in the [/data/](http://dl.ncsbe.gov/index.html?prefix=data/) directory. You can download the data for the entire state, but for sanity purposes, if you don't need the entire state, I recommend just grabbing the county data that you need. That's how this notebook is initially set up. County data is listed numerically by the number that a county appears in if arranged alphabetically. Go figure. Since that's pretty cryptic, I recommend reading the data format [description file](https://s3.amazonaws.com/dl.ncsbe.gov/data/ncvhis_ncvoter_data_format.txt), which will also help you figure out what each of the columns represents."
   ]
  },
  {
   "cell_type": "code",
   "execution_count": 4,
   "metadata": {
    "collapsed": false
   },
   "outputs": [],
   "source": [
    "directory = \"datadir\"\n",
    "ncboeDir = \"https://s3.amazonaws.com/dl.ncsbe.gov/data/ncvoter68.zip\"\n",
    "\n",
    "if not os.path.exists(directory):\n",
    "    os.makedirs(directory)\n",
    "    os.chdir(directory)\n",
    "    urllib.urlretrieve(ncboeDir, 'ncvoter68.zip')\n",
    "\n"
   ]
  },
  {
   "cell_type": "code",
   "execution_count": 5,
   "metadata": {
    "collapsed": false,
    "scrolled": true
   },
   "outputs": [],
   "source": [
    "zip_ref = zipfile.ZipFile('ncvoter68.zip', 'r')\n",
    "zip_ref.extractall()\n",
    "zip_ref.close()"
   ]
  },
  {
   "cell_type": "code",
   "execution_count": null,
   "metadata": {
    "collapsed": true
   },
   "outputs": [],
   "source": []
  }
 ],
 "metadata": {
  "kernelspec": {
   "display_name": "Python 2",
   "language": "python",
   "name": "python2"
  },
  "language_info": {
   "codemirror_mode": {
    "name": "ipython",
    "version": 2
   },
   "file_extension": ".py",
   "mimetype": "text/x-python",
   "name": "python",
   "nbconvert_exporter": "python",
   "pygments_lexer": "ipython2",
   "version": "2.7.13"
  }
 },
 "nbformat": 4,
 "nbformat_minor": 0
}
